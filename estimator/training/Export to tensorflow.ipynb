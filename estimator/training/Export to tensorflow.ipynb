{
 "cells": [
  {
   "cell_type": "markdown",
   "metadata": {},
   "source": [
    "# Init"
   ]
  },
  {
   "cell_type": "code",
   "execution_count": 10,
   "metadata": {},
   "outputs": [],
   "source": [
    "import tensorflow as tf\n",
    "import numpy as np\n",
    "import pandas as pd\n",
    "from tensorflow import keras\n",
    "from tensorflow.keras.layers import Activation\n",
    "from tensorflow.keras.models import Sequential\n",
    "from tensorflow.keras.layers import Dense, Dropout, LSTM\n",
    "from sklearn.preprocessing import MinMaxScaler"
   ]
  },
  {
   "cell_type": "code",
   "execution_count": 11,
   "metadata": {},
   "outputs": [],
   "source": [
    "train_path = 'data/PM_train.txt'\n",
    "model_path = 'models/regression_model_v1.h5'\n",
    "export_path = 'models/turbofan'\n",
    "sequence_length = 50\n",
    "nb_features = 25\n",
    "nb_out = 1"
   ]
  },
  {
   "cell_type": "markdown",
   "metadata": {},
   "source": [
    "# LSTM model"
   ]
  },
  {
   "cell_type": "code",
   "execution_count": 12,
   "metadata": {},
   "outputs": [],
   "source": [
    "model = Sequential()\n",
    "model.add(LSTM(\n",
    "         input_shape=(sequence_length, nb_features),\n",
    "         units=100,\n",
    "         return_sequences=True))\n",
    "model.add(Dropout(0.2))\n",
    "model.add(LSTM(\n",
    "          units=50,\n",
    "          return_sequences=False))\n",
    "model.add(Dropout(0.2))\n",
    "model.add(Dense(units=nb_out))\n",
    "model.add(Activation(\"linear\"))\n",
    "model.compile(loss='mean_squared_error', optimizer='rmsprop',metrics=['mae'])\n"
   ]
  },
  {
   "cell_type": "markdown",
   "metadata": {},
   "source": [
    "Load model"
   ]
  },
  {
   "cell_type": "code",
   "execution_count": 13,
   "metadata": {},
   "outputs": [],
   "source": [
    "model.load_weights(model_path)"
   ]
  },
  {
   "cell_type": "markdown",
   "metadata": {},
   "source": [
    "Test model"
   ]
  },
  {
   "cell_type": "code",
   "execution_count": 14,
   "metadata": {
    "scrolled": false
   },
   "outputs": [
    {
     "name": "stdout",
     "output_type": "stream",
     "text": [
      "[[154.84517]]\n",
      "[[154.82878]]\n",
      "[[154.80484]]\n",
      "[[154.76802]]\n",
      "[[154.75658]]\n",
      "[[154.67316]]\n",
      "[[154.72058]]\n",
      "[[154.65918]]\n",
      "[[154.6615]]\n",
      "[[154.68661]]\n",
      "[[154.67772]]\n",
      "[[154.60822]]\n",
      "[[154.53065]]\n",
      "[[153.465]]\n",
      "[[152.25421]]\n",
      "[[148.53636]]\n",
      "[[143.55727]]\n",
      "[[137.60799]]\n",
      "[[135.09538]]\n",
      "[[133.55852]]\n",
      "[[131.7597]]\n",
      "[[130.5471]]\n",
      "[[129.38728]]\n",
      "[[133.22284]]\n",
      "[[133.37184]]\n",
      "[[136.05733]]\n",
      "[[139.94464]]\n",
      "[[141.70056]]\n",
      "[[142.67027]]\n",
      "[[141.58347]]\n",
      "[[138.842]]\n",
      "[[131.98447]]\n",
      "[[133.68457]]\n",
      "[[134.36848]]\n",
      "[[129.54306]]\n",
      "[[128.90152]]\n",
      "[[130.95692]]\n",
      "[[130.35645]]\n",
      "[[134.82722]]\n",
      "[[135.87656]]\n",
      "[[135.28111]]\n",
      "[[134.40555]]\n",
      "[[133.13574]]\n",
      "[[125.28707]]\n",
      "[[118.383705]]\n",
      "[[109.04045]]\n",
      "[[108.68263]]\n",
      "[[108.6619]]\n",
      "[[111.71601]]\n",
      "[[106.37469]]\n",
      "[[101.696526]]\n",
      "[[98.2781]]\n",
      "[[92.302475]]\n",
      "[[89.4892]]\n",
      "[[94.50769]]\n",
      "[[98.51273]]\n",
      "[[102.78905]]\n",
      "[[103.924805]]\n",
      "[[102.789406]]\n",
      "[[102.24183]]\n",
      "[[102.66235]]\n",
      "[[96.44936]]\n",
      "[[94.91078]]\n",
      "[[88.50059]]\n",
      "[[87.37409]]\n",
      "[[87.39354]]\n",
      "[[93.63234]]\n",
      "[[97.22846]]\n",
      "[[98.30806]]\n",
      "[[99.49851]]\n",
      "[[99.20072]]\n",
      "[[96.94853]]\n",
      "[[87.986]]\n",
      "[[83.670235]]\n",
      "[[78.95521]]\n",
      "[[74.15447]]\n",
      "[[72.29034]]\n",
      "[[71.09211]]\n",
      "[[68.973595]]\n",
      "[[67.08551]]\n",
      "[[67.52482]]\n",
      "[[67.85872]]\n",
      "[[66.41601]]\n",
      "[[65.30256]]\n",
      "[[63.801132]]\n",
      "[[65.84459]]\n",
      "[[70.16168]]\n",
      "[[71.01171]]\n",
      "[[74.67001]]\n",
      "[[73.56019]]\n",
      "[[72.6349]]\n",
      "[[73.725006]]\n",
      "[[72.9109]]\n",
      "[[70.58569]]\n",
      "[[69.04706]]\n",
      "[[64.97909]]\n",
      "[[65.679634]]\n",
      "[[65.86663]]\n",
      "[[68.04122]]\n",
      "[[63.51106]]\n",
      "[[60.981194]]\n",
      "[[56.86793]]\n",
      "[[51.369514]]\n",
      "[[48.218277]]\n",
      "[[45.832264]]\n",
      "[[43.93104]]\n",
      "[[42.462807]]\n",
      "[[42.095924]]\n",
      "[[41.531895]]\n",
      "[[40.61725]]\n",
      "[[38.04856]]\n",
      "[[36.325756]]\n",
      "[[34.108425]]\n",
      "[[31.939817]]\n",
      "[[29.819944]]\n",
      "[[28.489086]]\n",
      "[[26.724262]]\n",
      "[[25.683184]]\n",
      "[[25.247196]]\n",
      "[[24.14476]]\n",
      "[[22.54358]]\n",
      "[[20.909435]]\n",
      "[[18.957457]]\n",
      "[[16.945976]]\n",
      "[[15.209658]]\n",
      "[[13.63776]]\n",
      "[[12.583841]]\n",
      "[[11.328266]]\n",
      "[[10.316673]]\n",
      "[[9.504324]]\n",
      "[[8.799456]]\n",
      "[[7.8736324]]\n",
      "[[6.584066]]\n",
      "[[5.690718]]\n",
      "[[4.749776]]\n",
      "[[4.227646]]\n",
      "[[3.9208322]]\n",
      "[[3.4071286]]\n",
      "[[3.1812391]]\n",
      "[[2.9121642]]\n",
      "[[2.7374518]]\n",
      "[[2.5240078]]\n"
     ]
    }
   ],
   "source": [
    "# Load\n",
    "def gen_sequence(id_df, seq_length, seq_cols):\n",
    "\n",
    "    data_matrix = id_df[seq_cols].values\n",
    "    num_elements = data_matrix.shape[0]\n",
    "\n",
    "    for start, stop in zip(range(0, num_elements-seq_length), range(seq_length, num_elements)):\n",
    "        yield data_matrix[start:stop, :]\n",
    "        \n",
    "def gen_labels(id_df, seq_length, label):\n",
    "\n",
    "    data_matrix = id_df[label].values\n",
    "    num_elements = data_matrix.shape[0]\n",
    "    return data_matrix[seq_length:num_elements, :]\n",
    "\n",
    "columns = ['id', 'cycle', 'setting1', 'setting2', 'setting3', 's1', 's2', 's3',\n",
    "                     's4', 's5', 's6', 's7', 's8', 's9', 's10', 's11', 's12', 's13', 's14',\n",
    "                     's15', 's16', 's17', 's18', 's19', 's20', 's21']\n",
    "sensor_cols = ['s' + str(i) for i in range(1,22)]\n",
    "sequence_cols = ['setting1', 'setting2', 'setting3', 'cycle_norm']\n",
    "sequence_cols.extend(sensor_cols)\n",
    "\n",
    "train_df = pd.read_csv(train_path, sep=' ', header=None)\n",
    "train_df.drop(train_df[[26, 27]], axis=1, inplace=True)\n",
    "train_df.columns = columns\n",
    "train_df.sort_values(['id', 'cycle'], inplace=True)\n",
    "\n",
    "\n",
    "# Preprocess\n",
    "train_rul = pd.DataFrame(train_df.groupby('id')['cycle'].max()).reset_index()\n",
    "train_rul.columns = ['id', 'max']\n",
    "train_df = train_df.merge(train_rul, on=['id'], how='left')\n",
    "train_df['RUL'] = train_df['max'] - train_df['cycle']\n",
    "train_df.drop('max', axis=1, inplace=True)\n",
    "train_df['cycle_norm'] = train_df['cycle']\n",
    "cols_normalize = train_df.columns.difference(['id','cycle','RUL','label1','label2'])\n",
    "min_max_scaler = MinMaxScaler()\n",
    "norm_train_df = pd.DataFrame(min_max_scaler.fit_transform(train_df[cols_normalize]), \n",
    "                             columns=cols_normalize, \n",
    "                             index=train_df.index)\n",
    "join_df = train_df[train_df.columns.difference(cols_normalize)].join(norm_train_df)\n",
    "train_df = join_df.reindex(columns = train_df.columns)\n",
    "\n",
    "# Extract test\n",
    "train_df_1 = train_df[train_df['id'] == 1]\n",
    "train_df_1 = train_df_1[sequence_cols]\n",
    "len_train_df_1 = len(train_df_1)\n",
    "last_test = [train_df_1[start:stop].values for start, stop in zip(range(0, len_train_df_1 - sequence_length), range(sequence_length, len_train_df_1))]\n",
    "last_test_nd = np.array(last_test)\n",
    "last_test_nd.shape\n",
    "\n",
    "for i in last_test_nd:\n",
    "    print(model.predict(np.reshape(i, (1, 50, 25))))"
   ]
  },
  {
   "cell_type": "markdown",
   "metadata": {},
   "source": [
    "# Export"
   ]
  },
  {
   "cell_type": "code",
   "execution_count": 15,
   "metadata": {},
   "outputs": [
    {
     "name": "stdout",
     "output_type": "stream",
     "text": [
      "WARNING:tensorflow:From /home/alessandro/projects/uni/distributed_sys/project/predictive-maintenance/estimator/training/.venv/lib64/python3.7/site-packages/tensorflow_core/python/ops/resource_variable_ops.py:1786: calling BaseResourceVariable.__init__ (from tensorflow.python.ops.resource_variable_ops) with constraint is deprecated and will be removed in a future version.\n",
      "Instructions for updating:\n",
      "If using Keras pass *_constraint arguments to layers.\n",
      "INFO:tensorflow:Assets written to: models/turbofan/assets\n"
     ]
    }
   ],
   "source": [
    "model.save(export_path)"
   ]
  },
  {
   "cell_type": "markdown",
   "metadata": {},
   "source": [
    "Test"
   ]
  },
  {
   "cell_type": "code",
   "execution_count": null,
   "metadata": {},
   "outputs": [
    {
     "name": "stdout",
     "output_type": "stream",
     "text": [
      "[[154.84517]]\n",
      "[[154.82878]]\n",
      "[[154.80484]]\n",
      "[[154.76802]]\n",
      "[[154.75658]]\n",
      "[[154.67316]]\n",
      "[[154.72058]]\n",
      "[[154.65918]]\n",
      "[[154.6615]]\n"
     ]
    }
   ],
   "source": [
    "test_model = tf.keras.models.load_model(export_path)\n",
    "\n",
    "for i in last_test_nd:\n",
    "    print(test_model.predict(np.reshape(i, (1, 50, 25))))"
   ]
  }
 ],
 "metadata": {
  "kernelspec": {
   "display_name": "Python 3",
   "language": "python",
   "name": "python3"
  },
  "language_info": {
   "codemirror_mode": {
    "name": "ipython",
    "version": 3
   },
   "file_extension": ".py",
   "mimetype": "text/x-python",
   "name": "python",
   "nbconvert_exporter": "python",
   "pygments_lexer": "ipython3",
   "version": "3.7.7"
  }
 },
 "nbformat": 4,
 "nbformat_minor": 4
}
